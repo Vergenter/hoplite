{
 "cells": [
  {
   "cell_type": "markdown",
   "metadata": {},
   "source": [
    "# Classifier Builder\n",
    "\n",
    "This notebook helps for the manual writing of a if/else classification function for template recognition.\n"
   ]
  },
  {
   "cell_type": "code",
   "execution_count": null,
   "metadata": {},
   "outputs": [],
   "source": [
    "import os\n",
    "import time\n",
    "import glob\n",
    "import numpy\n",
    "import matplotlib.image\n",
    "import matplotlib.pyplot\n",
    "try:\n",
    "    import hoplite\n",
    "except ModuleNotFoundError:\n",
    "    os.chdir(\"..\")\n",
    "import hoplite.game.terrain"
   ]
  },
  {
   "cell_type": "markdown",
   "metadata": {},
   "source": [
    "## 1. Groundtruth Dataset\n",
    "\n",
    "Edit the following cell to load templates into the `groundtruth` list. Each element in this list is a dictionnary with the following keys:\n",
    " - `\"label\"`: Label associated to the template\n",
    " - `\"part\"`: Pixel matrix representation of the template\n",
    " - `\"filename\"`: Source file"
   ]
  },
  {
   "cell_type": "code",
   "execution_count": null,
   "metadata": {},
   "outputs": [],
   "source": [
    "groundtruth = list()\n",
    "\n",
    "for filename in glob.glob(\"screenshots/menu/*.png\"):\n",
    "    image = matplotlib.image.imread(filename)[:, :, :3]\n",
    "    label = os.path.splitext(os.path.basename(filename))[0]\n",
    "    groundtruth.append({\n",
    "        \"filename\": filename,\n",
    "        \"part\": image,\n",
    "        \"label\": label,\n",
    "    })\n",
    "\n",
    "for filename in glob.glob(\"screenshots/altars/*.png\"):\n",
    "    image = matplotlib.image.imread(filename)[:, :, :3]\n",
    "    label = \"altar\"\n",
    "    groundtruth.append({\n",
    "        \"filename\": filename,\n",
    "        \"part\": image,\n",
    "        \"label\": label,\n",
    "    })\n",
    "\n",
    "for filename in glob.glob(\"screenshots/situations/*.png\"):\n",
    "    image = matplotlib.image.imread(filename)[:, :, :3]\n",
    "    label = \"playing\"\n",
    "    groundtruth.append({\n",
    "        \"filename\": filename,\n",
    "        \"part\": image,\n",
    "        \"label\": label,\n",
    "    })\n",
    "\n",
    "print(\"Loaded\", len(groundtruth), \"extracts.\")"
   ]
  },
  {
   "cell_type": "markdown",
   "metadata": {},
   "source": [
    "## 2. Helpers Functions\n",
    "\n",
    "Not modification are needed."
   ]
  },
  {
   "cell_type": "code",
   "execution_count": null,
   "metadata": {},
   "outputs": [],
   "source": [
    "def is_close(tgt, ref):\n",
    "    return numpy.isclose(tgt - ref, 0, atol=.001).all()\n",
    "\n",
    "def try_classifier(fcn):\n",
    "    time_start = time.time()\n",
    "    for i, item in enumerate(groundtruth):\n",
    "        prediction = fcn(item[\"part\"])\n",
    "        if prediction != item[\"label\"]:\n",
    "            print(\"Item %d -\" % (i + 1), item[\"filename\"])\n",
    "            print(\"Prediction:\", prediction)\n",
    "            print(\"Correct label:\", item[\"label\"])\n",
    "            figure = matplotlib.pyplot.figure(figsize=(6, 6))\n",
    "            ax = figure.add_subplot(1, 1, 1)\n",
    "            ax.imshow(item[\"part\"])\n",
    "            ax.set_xlim(0, item[\"part\"].shape[1] - 1)\n",
    "            ax.set_ylim(item[\"part\"].shape[0] - 1, 0)\n",
    "            ax.set_xlabel(\"j\")\n",
    "            ax.set_ylabel(\"i\")\n",
    "            ax.set_xticks(range(item[\"part\"].shape[1]), minor=True)\n",
    "            ax.set_yticks(range(item[\"part\"].shape[0]), minor=True)\n",
    "            # ax.grid(which='minor', alpha=0.2)\n",
    "            # ax.grid(which='major', alpha=0.5)\n",
    "            matplotlib.pyplot.show()\n",
    "            while True:\n",
    "                coordinates = input(\"Enter i,j coordinates> \")\n",
    "                if coordinates == \"\":\n",
    "                    break\n",
    "                i, j = list(map(lambda x: int(x.strip()), coordinates.split(\",\")))\n",
    "                print(\"if is_close(part[%d, %d], [%f, %f, %f]):\"\\\n",
    "                          % (i, j, *item[\"part\"][i, j]))\n",
    "                print(\" \" * 8 + \"return \\\"%s\\\"\" % item[\"label\"])\n",
    "                break\n",
    "            return False\n",
    "    print(\"Success! Elapsed: %.3f seconds\" % (time.time() - time_start))\n",
    "    return True"
   ]
  },
  {
   "cell_type": "markdown",
   "metadata": {},
   "source": [
    "## 2. Classifier Writing\n",
    "\n",
    "Execute the following cell, and edit the `classify` function until there is no more assertion error. Your classifier should then be safe."
   ]
  },
  {
   "cell_type": "code",
   "execution_count": null,
   "metadata": {},
   "outputs": [],
   "source": [
    "def classify(part):\n",
    "    if is_close(part[600, 1000], [0.352941, 0.270588, 0.160784]):\n",
    "        return \"altar\"\n",
    "    if is_close(part[600, 1000], [0.290196, 0.301961, 0.290196]):\n",
    "        return \"altar\"\n",
    "    if is_close(part[635, 640], [0.647059, 0.000000, 0.000000]):\n",
    "        return \"dead\"\n",
    "    if is_close(part[80, 20], [1.000000, 1.000000, 1.000000]):\n",
    "        return \"embark\"\n",
    "    if is_close(part[1000, 540], [0.937255, 0.764706, 0.000000]):\n",
    "        return \"fleece\"\n",
    "    if is_close(part[275, 640], [1.000000, 1.000000, 1.000000]):\n",
    "        return \"victory\"\n",
    "    if is_close(part[1450, 540], [1.000000, 1.000000, 1.000000]):\n",
    "        return \"stairs\"\n",
    "    if is_close(part[750, 1000], [0.352941, 0.270588, 0.160784]):\n",
    "        return \"altar\"\n",
    "    return \"playing\"\n",
    "\n",
    "assert try_classifier(classify)"
   ]
  }
 ],
 "metadata": {
  "kernelspec": {
   "display_name": "Python 3",
   "language": "python",
   "name": "python3"
  },
  "language_info": {
   "codemirror_mode": {
    "name": "ipython",
    "version": 3
   },
   "file_extension": ".py",
   "mimetype": "text/x-python",
   "name": "python",
   "nbconvert_exporter": "python",
   "pygments_lexer": "ipython3",
   "version": "3.7.2"
  }
 },
 "nbformat": 4,
 "nbformat_minor": 4
}
